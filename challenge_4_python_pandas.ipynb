{
  "cells": [
    {
      "cell_type": "markdown",
      "metadata": {
        "id": "view-in-github",
        "colab_type": "text"
      },
      "source": [
        "<a href=\"https://colab.research.google.com/github/abiflynn/python_pandas/blob/main/challenge_4_python_pandas.ipynb\" target=\"_parent\"><img src=\"https://colab.research.google.com/assets/colab-badge.svg\" alt=\"Open In Colab\"/></a>"
      ]
    },
    {
      "cell_type": "markdown",
      "metadata": {
        "id": "6EHUMqxJJYrz"
      },
      "source": [
        "#Challenge 4: Python Pandas"
      ]
    },
    {
      "cell_type": "code",
      "execution_count": 1,
      "metadata": {
        "id": "WBl-_GGwJYr1"
      },
      "outputs": [],
      "source": [
        "# import libraries\n",
        "import pandas as pd\n",
        "\n",
        "# load data\n",
        "# This code is made to load our data stored on Google Drive\n",
        "def gd_path(file_id):\n",
        "    \"\"\"Generate a shareable link from Google Drive file id.\"\"\"\n",
        "    return f\"https://drive.google.com/uc?export=download&id={file_id}\"\n",
        "\n",
        "# Google Drive file ids\n",
        "files_id = {\n",
        "    \"titleauthor\": \"1F1JOiYXStWacOBca6coNVfyVtoST7ZgD\",\n",
        "    \"titles\": \"1PLdn50N9GRa53ZbuVWo0l47F_IXdvlEm\",\n",
        "    \"stores\": \"1f-GCgip7O93CpbAkYvOsc21eKnSOSHsQ\", \n",
        "    \"sales\": \"1fzFc9rwYmVIPaGOFmhLVxCi3kg19vNU2\", \n",
        "    \"roysched\": \"1zPRZPoFPEMKyrNR5VSENeYFHGCBZmxbs\", \n",
        "    \"publishers\": \"1s9E8_AVOziTrowb3wyh2jg3PV763VOyq\",\n",
        "    \"pub_info\": \"1OEgogcGKy--EpuVj0kqq7lyBZNGW6YSv\", \n",
        "    \"jobs\": \"1V1Za8hUdXD-vJOyRdX4aQV5wanIff2eM\", \n",
        "    \"employee\": \"1h9mUjsVqpP74b1w0x7KOw37n_n9Ulkt5\", \n",
        "    \"discounts\": \"111dvSxMcCsTgOuV1wDSKFJxO1Xcxd9VS\", \n",
        "    \"authors\": \"1fEF89Nhe61EebAljKlwFwfEuokK0o6aJ\"\n",
        "}\n",
        "\n",
        "# Read data from Google Drive\n",
        "sales = pd.read_csv(gd_path(files_id[\"sales\"]), sep=\";\")\n",
        "authors = pd.read_csv(gd_path(files_id[\"authors\"]), sep=\";\")\n",
        "publishers = pd.read_csv(gd_path(files_id[\"publishers\"]), sep=\";\")\n",
        "titles = pd.read_csv(gd_path(files_id[\"titles\"]), sep=\";\")\n",
        "employee = pd.read_csv(gd_path(files_id[\"employee\"]), sep=\";\")"
      ]
    },
    {
      "cell_type": "markdown",
      "metadata": {
        "id": "QOIJ0WT3JYr2"
      },
      "source": [
        "## 1. From how many different states are our authors?"
      ]
    },
    {
      "cell_type": "code",
      "execution_count": 2,
      "metadata": {
        "id": "CsYVPrDSJYr3",
        "outputId": "b84a314e-7144-4d74-97de-c1c0b522ceb3",
        "colab": {
          "base_uri": "https://localhost:8080/"
        }
      },
      "outputs": [
        {
          "output_type": "execute_result",
          "data": {
            "text/plain": [
              "8"
            ]
          },
          "metadata": {},
          "execution_count": 2
        }
      ],
      "source": [
        "(\n",
        "authors\n",
        "    ['state']\n",
        "    .drop_duplicates()\n",
        "    .count()\n",
        ")"
      ]
    },
    {
      "cell_type": "markdown",
      "metadata": {
        "id": "9hhPED8yJYr4"
      },
      "source": [
        "## 2. How many publishers are based in the USA?"
      ]
    },
    {
      "cell_type": "code",
      "execution_count": 3,
      "metadata": {
        "id": "1_J9730KJYr4",
        "outputId": "69c56270-25fd-48a7-dade-99fb9655cd22",
        "colab": {
          "base_uri": "https://localhost:8080/"
        }
      },
      "outputs": [
        {
          "output_type": "execute_result",
          "data": {
            "text/plain": [
              "6"
            ]
          },
          "metadata": {},
          "execution_count": 3
        }
      ],
      "source": [
        "(\n",
        "publishers\n",
        "    .loc[publishers['country']=='USA']\n",
        "    ['pub_id']\n",
        "    .count()\n",
        ")"
      ]
    },
    {
      "cell_type": "markdown",
      "metadata": {
        "id": "HVVkYDvVJYr4"
      },
      "source": [
        "## 3. What's the average quantity of titles sold per sale by store 7131?"
      ]
    },
    {
      "cell_type": "code",
      "execution_count": 4,
      "metadata": {
        "id": "HzrIQnbWJYr4",
        "outputId": "a0ec5768-eedf-43d1-8947-032811346610",
        "colab": {
          "base_uri": "https://localhost:8080/"
        }
      },
      "outputs": [
        {
          "output_type": "execute_result",
          "data": {
            "text/plain": [
              "21.666666666666668"
            ]
          },
          "metadata": {},
          "execution_count": 4
        }
      ],
      "source": [
        "(\n",
        "sales\n",
        "    .loc[sales['stor_id']==7131]\n",
        "    ['qty']\n",
        "    .mean()\n",
        ")"
      ]
    },
    {
      "cell_type": "markdown",
      "metadata": {
        "id": "XzAr-vUnJYr5"
      },
      "source": [
        "## 4. When was the employee with the highest level hired?"
      ]
    },
    {
      "cell_type": "code",
      "execution_count": 5,
      "metadata": {
        "id": "TWCIJLWMJYr5",
        "outputId": "bfdd1b35-c23c-446b-f81a-e251ed71bd09",
        "colab": {
          "base_uri": "https://localhost:8080/"
        }
      },
      "outputs": [
        {
          "output_type": "execute_result",
          "data": {
            "text/plain": [
              "26    1989-03-01 00:00:00\n",
              "Name: hire_date, dtype: object"
            ]
          },
          "metadata": {},
          "execution_count": 5
        }
      ],
      "source": [
        "(\n",
        "employee\n",
        "    .sort_values(by = 'job_lvl', ascending = False)\n",
        "    .head(n = 1)\n",
        "    ['hire_date']\n",
        ")"
      ]
    },
    {
      "cell_type": "markdown",
      "metadata": {
        "id": "qak7EdacJYr5"
      },
      "source": [
        "## 5. What's the average price of psychology books?"
      ]
    },
    {
      "cell_type": "code",
      "execution_count": 6,
      "metadata": {
        "id": "vrUKzo7oJYr5",
        "outputId": "daac4865-b927-493b-92ac-ed07c9f5a8cb",
        "colab": {
          "base_uri": "https://localhost:8080/"
        }
      },
      "outputs": [
        {
          "output_type": "execute_result",
          "data": {
            "text/plain": [
              "13.504"
            ]
          },
          "metadata": {},
          "execution_count": 6
        }
      ],
      "source": [
        "(\n",
        "titles\n",
        "    .loc[titles['type']=='psychology']\n",
        "    ['price']\n",
        "    .mean()\n",
        ")"
      ]
    },
    {
      "cell_type": "markdown",
      "metadata": {
        "id": "gin6FL30JYr6"
      },
      "source": [
        "## 6. Which category of books has had more year-to-date sales, \"business\" or \"popular_comp\"? You can write two queries to answer this question."
      ]
    },
    {
      "cell_type": "markdown",
      "metadata": {
        "id": "g2fYyEwQJYr6"
      },
      "source": [
        "### business"
      ]
    },
    {
      "cell_type": "code",
      "execution_count": 7,
      "metadata": {
        "id": "Wo2e9ZqgJYr6",
        "outputId": "04ecf7ef-8830-4533-f7b5-5b9d88dba3b8",
        "colab": {
          "base_uri": "https://localhost:8080/"
        }
      },
      "outputs": [
        {
          "output_type": "execute_result",
          "data": {
            "text/plain": [
              "9939"
            ]
          },
          "metadata": {},
          "execution_count": 7
        }
      ],
      "source": [
        "(\n",
        "titles\n",
        "    .loc[titles['type']=='psychology']\n",
        "    ['ytd_sales']\n",
        "    .sum()  \n",
        ")"
      ]
    },
    {
      "cell_type": "markdown",
      "metadata": {
        "id": "OIBRg1NPJYr6"
      },
      "source": [
        "### popular_comp"
      ]
    },
    {
      "cell_type": "code",
      "execution_count": 8,
      "metadata": {
        "id": "nsD-8EOqJYr6",
        "outputId": "e894b627-5c87-408d-e256-4a1ea4df10f9",
        "colab": {
          "base_uri": "https://localhost:8080/"
        }
      },
      "outputs": [
        {
          "output_type": "execute_result",
          "data": {
            "text/plain": [
              "12875"
            ]
          },
          "metadata": {},
          "execution_count": 8
        }
      ],
      "source": [
        "(\n",
        "titles\n",
        "    .loc[titles['type']=='popular_comp']\n",
        "    ['ytd_sales']\n",
        "    .sum()  \n",
        ")"
      ]
    },
    {
      "cell_type": "markdown",
      "metadata": {
        "id": "UfHrWET6JYr6"
      },
      "source": [
        "## 7. What's the title and the price of the most expensive book?"
      ]
    },
    {
      "cell_type": "code",
      "execution_count": 9,
      "metadata": {
        "id": "6-SD9vpfJYr7",
        "outputId": "c8997ecb-22f9-4d77-cdfa-6bae9a4d0383",
        "colab": {
          "base_uri": "https://localhost:8080/",
          "height": 81
        }
      },
      "outputs": [
        {
          "output_type": "execute_result",
          "data": {
            "text/plain": [
              "                      title  price\n",
              "7  But Is It User Friendly?  22.95"
            ],
            "text/html": [
              "\n",
              "  <div id=\"df-5a639100-edcd-47d2-9607-6fd8d9fab030\">\n",
              "    <div class=\"colab-df-container\">\n",
              "      <div>\n",
              "<style scoped>\n",
              "    .dataframe tbody tr th:only-of-type {\n",
              "        vertical-align: middle;\n",
              "    }\n",
              "\n",
              "    .dataframe tbody tr th {\n",
              "        vertical-align: top;\n",
              "    }\n",
              "\n",
              "    .dataframe thead th {\n",
              "        text-align: right;\n",
              "    }\n",
              "</style>\n",
              "<table border=\"1\" class=\"dataframe\">\n",
              "  <thead>\n",
              "    <tr style=\"text-align: right;\">\n",
              "      <th></th>\n",
              "      <th>title</th>\n",
              "      <th>price</th>\n",
              "    </tr>\n",
              "  </thead>\n",
              "  <tbody>\n",
              "    <tr>\n",
              "      <th>7</th>\n",
              "      <td>But Is It User Friendly?</td>\n",
              "      <td>22.95</td>\n",
              "    </tr>\n",
              "  </tbody>\n",
              "</table>\n",
              "</div>\n",
              "      <button class=\"colab-df-convert\" onclick=\"convertToInteractive('df-5a639100-edcd-47d2-9607-6fd8d9fab030')\"\n",
              "              title=\"Convert this dataframe to an interactive table.\"\n",
              "              style=\"display:none;\">\n",
              "        \n",
              "  <svg xmlns=\"http://www.w3.org/2000/svg\" height=\"24px\"viewBox=\"0 0 24 24\"\n",
              "       width=\"24px\">\n",
              "    <path d=\"M0 0h24v24H0V0z\" fill=\"none\"/>\n",
              "    <path d=\"M18.56 5.44l.94 2.06.94-2.06 2.06-.94-2.06-.94-.94-2.06-.94 2.06-2.06.94zm-11 1L8.5 8.5l.94-2.06 2.06-.94-2.06-.94L8.5 2.5l-.94 2.06-2.06.94zm10 10l.94 2.06.94-2.06 2.06-.94-2.06-.94-.94-2.06-.94 2.06-2.06.94z\"/><path d=\"M17.41 7.96l-1.37-1.37c-.4-.4-.92-.59-1.43-.59-.52 0-1.04.2-1.43.59L10.3 9.45l-7.72 7.72c-.78.78-.78 2.05 0 2.83L4 21.41c.39.39.9.59 1.41.59.51 0 1.02-.2 1.41-.59l7.78-7.78 2.81-2.81c.8-.78.8-2.07 0-2.86zM5.41 20L4 18.59l7.72-7.72 1.47 1.35L5.41 20z\"/>\n",
              "  </svg>\n",
              "      </button>\n",
              "      \n",
              "  <style>\n",
              "    .colab-df-container {\n",
              "      display:flex;\n",
              "      flex-wrap:wrap;\n",
              "      gap: 12px;\n",
              "    }\n",
              "\n",
              "    .colab-df-convert {\n",
              "      background-color: #E8F0FE;\n",
              "      border: none;\n",
              "      border-radius: 50%;\n",
              "      cursor: pointer;\n",
              "      display: none;\n",
              "      fill: #1967D2;\n",
              "      height: 32px;\n",
              "      padding: 0 0 0 0;\n",
              "      width: 32px;\n",
              "    }\n",
              "\n",
              "    .colab-df-convert:hover {\n",
              "      background-color: #E2EBFA;\n",
              "      box-shadow: 0px 1px 2px rgba(60, 64, 67, 0.3), 0px 1px 3px 1px rgba(60, 64, 67, 0.15);\n",
              "      fill: #174EA6;\n",
              "    }\n",
              "\n",
              "    [theme=dark] .colab-df-convert {\n",
              "      background-color: #3B4455;\n",
              "      fill: #D2E3FC;\n",
              "    }\n",
              "\n",
              "    [theme=dark] .colab-df-convert:hover {\n",
              "      background-color: #434B5C;\n",
              "      box-shadow: 0px 1px 3px 1px rgba(0, 0, 0, 0.15);\n",
              "      filter: drop-shadow(0px 1px 2px rgba(0, 0, 0, 0.3));\n",
              "      fill: #FFFFFF;\n",
              "    }\n",
              "  </style>\n",
              "\n",
              "      <script>\n",
              "        const buttonEl =\n",
              "          document.querySelector('#df-5a639100-edcd-47d2-9607-6fd8d9fab030 button.colab-df-convert');\n",
              "        buttonEl.style.display =\n",
              "          google.colab.kernel.accessAllowed ? 'block' : 'none';\n",
              "\n",
              "        async function convertToInteractive(key) {\n",
              "          const element = document.querySelector('#df-5a639100-edcd-47d2-9607-6fd8d9fab030');\n",
              "          const dataTable =\n",
              "            await google.colab.kernel.invokeFunction('convertToInteractive',\n",
              "                                                     [key], {});\n",
              "          if (!dataTable) return;\n",
              "\n",
              "          const docLinkHtml = 'Like what you see? Visit the ' +\n",
              "            '<a target=\"_blank\" href=https://colab.research.google.com/notebooks/data_table.ipynb>data table notebook</a>'\n",
              "            + ' to learn more about interactive tables.';\n",
              "          element.innerHTML = '';\n",
              "          dataTable['output_type'] = 'display_data';\n",
              "          await google.colab.output.renderOutput(dataTable, element);\n",
              "          const docLink = document.createElement('div');\n",
              "          docLink.innerHTML = docLinkHtml;\n",
              "          element.appendChild(docLink);\n",
              "        }\n",
              "      </script>\n",
              "    </div>\n",
              "  </div>\n",
              "  "
            ]
          },
          "metadata": {},
          "execution_count": 9
        }
      ],
      "source": [
        "(\n",
        "titles\n",
        "    .sort_values(by = 'price', ascending = False)\n",
        "    .head(n = 1)\n",
        "    [['title', 'price']]\n",
        ")"
      ]
    },
    {
      "cell_type": "markdown",
      "metadata": {
        "id": "mOc0XR29JYr7"
      },
      "source": [
        "## 8. What's the price of the most expensive psychology book?"
      ]
    },
    {
      "cell_type": "code",
      "execution_count": 10,
      "metadata": {
        "id": "lFKUqGmDJYr7",
        "outputId": "34a12fc3-fe7c-40cf-e7e6-798b7df86df1",
        "colab": {
          "base_uri": "https://localhost:8080/"
        }
      },
      "outputs": [
        {
          "output_type": "execute_result",
          "data": {
            "text/plain": [
              "21.59"
            ]
          },
          "metadata": {},
          "execution_count": 10
        }
      ],
      "source": [
        "(\n",
        "titles\n",
        "    .loc[titles['type']=='psychology']\n",
        "    ['price'].max()\n",
        ")"
      ]
    },
    {
      "cell_type": "markdown",
      "metadata": {
        "id": "Ew9Z3xW4JYr7"
      },
      "source": [
        "## 9. How many authors live in either San Jose or Salt Lake City\n"
      ]
    },
    {
      "cell_type": "code",
      "execution_count": 11,
      "metadata": {
        "id": "myTJ5jLcJYr7",
        "outputId": "b6fad4ed-a2ed-4849-9292-63dcd2d51867",
        "colab": {
          "base_uri": "https://localhost:8080/"
        }
      },
      "outputs": [
        {
          "output_type": "execute_result",
          "data": {
            "text/plain": [
              "3"
            ]
          },
          "metadata": {},
          "execution_count": 11
        }
      ],
      "source": [
        "(\n",
        "authors\n",
        "    .loc[(authors['city']=='San Jose')\n",
        "        |(authors['city']=='Salt Lake City')]\n",
        "    ['au_id']\n",
        "    .count()\n",
        ")"
      ]
    }
  ],
  "metadata": {
    "kernelspec": {
      "display_name": "Pandas",
      "language": "python",
      "name": "python3"
    },
    "language_info": {
      "codemirror_mode": {
        "name": "ipython",
        "version": 3
      },
      "file_extension": ".py",
      "mimetype": "text/x-python",
      "name": "python",
      "nbconvert_exporter": "python",
      "pygments_lexer": "ipython3",
      "version": "3.9.15"
    },
    "orig_nbformat": 4,
    "vscode": {
      "interpreter": {
        "hash": "d3320157bbf74c474a389ba3c249fd8129c2512710cab608d52eccd3d813ad2b"
      }
    },
    "colab": {
      "provenance": [],
      "include_colab_link": true
    }
  },
  "nbformat": 4,
  "nbformat_minor": 0
}